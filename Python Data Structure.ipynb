{
 "cells": [
  {
   "cell_type": "markdown",
   "id": "4b836289-dd73-4a53-9db5-93e7c79b806d",
   "metadata": {},
   "source": [
    "                      ASSIGNMENT - Python Data Strucuture "
   ]
  },
  {
   "cell_type": "code",
   "execution_count": 5,
   "id": "5f46bfba-81d0-4f18-a8aa-366278f056b5",
   "metadata": {},
   "outputs": [
    {
     "name": "stdout",
     "output_type": "stream",
     "text": [
      "!dlroW ,olleH\n"
     ]
    }
   ],
   "source": [
    "#Write a code to reverse a string\n",
    "\n",
    "def reverse_string(s):\n",
    "    return s[::-1]\n",
    "# Example usage\n",
    "input_str = \"Hello, World!\"\n",
    "reversed_str = reverse_string(input_str)\n",
    "print(reversed_str)"
   ]
  },
  {
   "cell_type": "code",
   "execution_count": 6,
   "id": "c86dd0ab-2f4c-439c-94bd-4bb669a1e5df",
   "metadata": {},
   "outputs": [
    {
     "name": "stdout",
     "output_type": "stream",
     "text": [
      "Number of vowels: 3\n"
     ]
    }
   ],
   "source": [
    "#Write a code to count the number of vowels in a string\n",
    "\n",
    "def count_vowels(s):\n",
    "    vowels = \"aeiouAEIOU\"\n",
    "    count = 0\n",
    "    for char in s:\n",
    "        if char in vowels:\n",
    "            count += 1\n",
    "    return count\n",
    "# Example usage\n",
    "input_str = \"Hello, World!\"\n",
    "vowel_count = count_vowels(input_str)\n",
    "print(f\"Number of vowels: {vowel_count}\")\n"
   ]
  },
  {
   "cell_type": "code",
   "execution_count": 8,
   "id": "e614c74b-382a-491c-92d9-575de4097783",
   "metadata": {},
   "outputs": [
    {
     "name": "stdout",
     "output_type": "stream",
     "text": [
      "The string is a palindrome.\n"
     ]
    }
   ],
   "source": [
    "#Write a code to check if a given string is a palindrome or not.\n",
    "\n",
    "def is_palindrome(s):\n",
    "    # Remove spaces and convert to lowercase for uniformity\n",
    "    s = s.replace(\" \", \"\").lower()\n",
    "    return s == s[::-1]\n",
    "# Example usage\n",
    "input_str = \"A man a plan a canal Panama\"\n",
    "if is_palindrome(input_str):\n",
    "    print(\"The string is a palindrome.\")\n",
    "else:\n",
    "    print(\"The string is not a palindrome.\")\n"
   ]
  },
  {
   "cell_type": "code",
   "execution_count": 9,
   "id": "92cd19c2-3c4a-4187-9116-4382ee3acd23",
   "metadata": {},
   "outputs": [
    {
     "name": "stdout",
     "output_type": "stream",
     "text": [
      "The strings are anagrams.\n"
     ]
    }
   ],
   "source": [
    "#Write a code to check if two given strings are anagrams of each other\n",
    "\n",
    "def are_anagrams(str1, str2):\n",
    "    # Remove spaces and convert to lowercase for uniformity\n",
    "    str1 = str1.replace(\" \", \"\").lower()\n",
    "    str2 = str2.replace(\" \", \"\").lower()\n",
    "    # Check if sorted characters of both strings are equal\n",
    "    return sorted(str1) == sorted(str2)\n",
    "# Example usage\n",
    "string1 = \"Listen\"\n",
    "string2 = \"Silent\"\n",
    "if are_anagrams(string1, string2):\n",
    "    print(\"The strings are anagrams.\")\n",
    "else:\n",
    "    print(\"The strings are not anagrams.\")"
   ]
  },
  {
   "cell_type": "code",
   "execution_count": 12,
   "id": "a50ee4dd-f353-4e82-b53c-1c9d722723a0",
   "metadata": {},
   "outputs": [
    {
     "name": "stdout",
     "output_type": "stream",
     "text": [
      "Occurrences of 'test' found at indices: [10, 23, 39]\n"
     ]
    }
   ],
   "source": [
    "#Write a code to find all occurrences of a given substring within another string\n",
    "\n",
    "def find_all_occurrences(text, substring):\n",
    "    occurrences = []\n",
    "    start = 0\n",
    "    while True:\n",
    "        index = text.find(substring, start)\n",
    "        if index == -1:\n",
    "            break\n",
    "        occurrences.append(index)\n",
    "        start = index + 1  # Move start to the next character after the found substring\n",
    "    return occurrences\n",
    "# Example usage\n",
    "text = \"This is a test string. Testing is fun. Test it well.\"\n",
    "substring = \"test\"\n",
    "indices = find_all_occurrences(text.lower(), substring.lower())\n",
    "print(f\"Occurrences of '{substring}' found at indices: {indices}\")"
   ]
  },
  {
   "cell_type": "code",
   "execution_count": 13,
   "id": "3e2d2e7a-6277-4d46-97e3-6930f139c4a7",
   "metadata": {},
   "outputs": [
    {
     "name": "stdout",
     "output_type": "stream",
     "text": [
      "a3b2c1d3\n"
     ]
    }
   ],
   "source": [
    "#Write a code to perform basic string compression using the counts of repeated characters\u0012\n",
    "\n",
    "def compress_string(s):\n",
    "    compressed = []\n",
    "    count = 1\n",
    "    for i in range(1, len(s) + 1):\n",
    "        if i < len(s) and s[i] == s[i - 1]:\n",
    "            count += 1\n",
    "        else:\n",
    "            compressed.append(s[i - 1] + str(count))\n",
    "            count = 1\n",
    "    compressed_str = ''.join(compressed)\n",
    "    # Return the compressed string only if it's shorter than the original\n",
    "    return compressed_str if len(compressed_str) < len(s) else s\n",
    "# Example usage\n",
    "input_str = \"aaabbcddd\"\n",
    "compressed_str = compress_string(input_str)\n",
    "print(compressed_str)"
   ]
  },
  {
   "cell_type": "code",
   "execution_count": 14,
   "id": "3b1a37de-92bc-464f-9feb-be14dbee5d97",
   "metadata": {},
   "outputs": [
    {
     "name": "stdout",
     "output_type": "stream",
     "text": [
      "The string has all unique characters.\n"
     ]
    }
   ],
   "source": [
    "#Write a code to determine if a string has all unique characters\n",
    "\n",
    "def has_all_unique_characters(s):\n",
    "    return len(set(s)) == len(s)\n",
    "# Example usage\n",
    "input_str = \"abcdefg\"\n",
    "if has_all_unique_characters(input_str):\n",
    "    print(\"The string has all unique characters.\")\n",
    "else:\n",
    "    print(\"The string does not have all unique characters.\")"
   ]
  },
  {
   "cell_type": "code",
   "execution_count": 15,
   "id": "db5c3fa0-3627-4dba-99a3-68f41731974a",
   "metadata": {},
   "outputs": [
    {
     "name": "stdout",
     "output_type": "stream",
     "text": [
      "Uppercase: HELLO, WORLD!\n",
      "Lowercase: hello, world!\n"
     ]
    }
   ],
   "source": [
    "#Write a code to convert a given string to uppercase or lowercase\n",
    "\n",
    "def convert_case(s, to_upper=True):\n",
    "    if to_upper:\n",
    "        return s.upper()\n",
    "    else:\n",
    "        return s.lower()\n",
    "# Example usage\n",
    "input_str = \"Hello, World!\"\n",
    "upper_str = convert_case(input_str, to_upper=True)\n",
    "print(\"Uppercase:\", upper_str)\n",
    "lower_str = convert_case(input_str, to_upper=False)\n",
    "print(\"Lowercase:\", lower_str)\n"
   ]
  },
  {
   "cell_type": "code",
   "execution_count": 16,
   "id": "8c800180-87a2-404d-a364-aff0de8a613d",
   "metadata": {},
   "outputs": [
    {
     "name": "stdout",
     "output_type": "stream",
     "text": [
      "Number of words: 6\n"
     ]
    }
   ],
   "source": [
    "#Write a code to count the number of words in a string\n",
    "\n",
    "def count_words(s):\n",
    "    # Split the string by whitespace and filter out empty strings\n",
    "    words = s.split()\n",
    "    return len(words)\n",
    "# Example usage\n",
    "input_str = \"Hello, how are you doing today?\"\n",
    "word_count = count_words(input_str)\n",
    "print(f\"Number of words: {word_count}\")"
   ]
  },
  {
   "cell_type": "code",
   "execution_count": 18,
   "id": "914baf9f-a06b-4aca-b30a-5124b528c460",
   "metadata": {},
   "outputs": [
    {
     "name": "stdout",
     "output_type": "stream",
     "text": [
      "Hello, World!\n"
     ]
    }
   ],
   "source": [
    "# Write a code to concatenate two strings without using the + operator\n",
    "\n",
    "def concatenate_strings(str1, str2):\n",
    "    return \"{}{}\".format(str1, str2)\n",
    "# Example usage\n",
    "string1 = \"Hello, \"\n",
    "string2 = \"World!\"\n",
    "result = concatenate_strings(string1, string2)\n",
    "print(result)"
   ]
  },
  {
   "cell_type": "code",
   "execution_count": 19,
   "id": "f5451144-f644-47ba-a6fe-e51040fcea3f",
   "metadata": {},
   "outputs": [
    {
     "name": "stdout",
     "output_type": "stream",
     "text": [
      "Original list: [1, 2, 3, 4, 2, 5, 2, 6]\n",
      "List after removing all occurrences of 2: [1, 3, 4, 5, 6]\n"
     ]
    }
   ],
   "source": [
    "#Write a code to remove all occurrences of a specific element from a list\n",
    "\n",
    "def remove_all_occurrences(input_list, element_to_remove):\n",
    "    \"\"\"\n",
    "    Removes all occurrences of a given element from a list using a list comprehension.\n",
    "\n",
    "    Args:\n",
    "        input_list: The list from which to remove elements.\n",
    "        element_to_remove: The element to be removed.\n",
    "\n",
    "    Returns:\n",
    "        A new list with all occurrences of the element removed.\n",
    "    \"\"\"\n",
    "    return [element for element in input_list if element != element_to_remove]\n",
    "\n",
    "# --- Example Usage ---\n",
    "\n",
    "my_list = [1, 2, 3, 4, 2, 5, 2, 6]\n",
    "element_to_remove = 2\n",
    "\n",
    "print(f\"Original list: {my_list}\")\n",
    "\n",
    "cleaned_list = remove_all_occurrences(my_list, element_to_remove)\n",
    "\n",
    "print(f\"List after removing all occurrences of {element_to_remove}: {cleaned_list}\")\n"
   ]
  },
  {
   "cell_type": "code",
   "execution_count": 21,
   "id": "ffe8c3a4-4642-4f11-a7b6-e977a29b1d68",
   "metadata": {},
   "outputs": [
    {
     "name": "stdout",
     "output_type": "stream",
     "text": [
      "The second largest number (sorted method) is: 15\n"
     ]
    }
   ],
   "source": [
    "#Implement a code to find the second largest number in a given list of integers\n",
    "\n",
    "def find_second_largest_sorted(numbers):\n",
    "    \"\"\"Finds the second largest number by sorting unique elements.\"\"\"\n",
    "    if len(numbers) < 2:\n",
    "        return None\n",
    "    \n",
    "    unique_numbers = sorted(list(set(numbers)))\n",
    "    if len(unique_numbers) < 2:\n",
    "        return None # No second largest unique number\n",
    "    \n",
    "    return unique_numbers[-2]\n",
    "\n",
    "# Example usage:\n",
    "my_list = [10, 5, 20, 8, 15, 20]\n",
    "second_largest = find_second_largest_sorted(my_list)\n",
    "print(f\"The second largest number (sorted method) is: {second_largest}\")"
   ]
  },
  {
   "cell_type": "code",
   "execution_count": 26,
   "id": "19aa5163-c096-4ab6-890b-1f8caf258a18",
   "metadata": {},
   "outputs": [
    {
     "ename": "SyntaxError",
     "evalue": "invalid syntax (2879855060.py, line 2)",
     "output_type": "error",
     "traceback": [
      "\u001b[1;36m  Cell \u001b[1;32mIn[26], line 2\u001b[1;36m\u001b[0m\n\u001b[1;33m    keys and their counts as values\u001b[0m\n\u001b[1;37m                   ^\u001b[0m\n\u001b[1;31mSyntaxError\u001b[0m\u001b[1;31m:\u001b[0m invalid syntax\n"
     ]
    }
   ],
   "source": [
    "#Create a code to count the occurrences of each element in a list and return a dictionary with elements as\n",
    "keys and their counts as values\n",
    "\n",
    "def count_elements_with_counter(input_list):\n",
    "  \"\"\"\n",
    "  Counts the occurrences of each element in a list using collections.Counter.\n",
    "  \n",
    "  Args:\n",
    "    input_list: A list of elements.\n",
    "    \n",
    "  Returns:\n",
    "    A dictionary-like Counter object with elements as keys and their \n",
    "    counts as values.\n",
    "  \"\"\"\n",
    "  return Counter(input_list)\n",
    "\n",
    "# Example usage\n",
    "my_list = ['apple', 'orange', 'banana', 'apple', 'orange', 'apple']\n",
    "counts = count_elements_with_counter(my_list)\n",
    "print(counts)\n",
    "# Expected output: Counter({'apple': 3, 'orange': 2, 'banana': 1})"
   ]
  },
  {
   "cell_type": "code",
   "execution_count": 28,
   "id": "65b6b743-9844-4523-abc4-279d31e9c790",
   "metadata": {},
   "outputs": [
    {
     "name": "stdout",
     "output_type": "stream",
     "text": [
      "Original list: [1, 2, 3, 4, 5]\n",
      "Reversed list: [5, 4, 3, 2, 1]\n"
     ]
    }
   ],
   "source": [
    "#Write a code to reverse a list in-place without using any built-in reverse functions\n",
    "\n",
    "def reverse_list_in_place(lst):\n",
    "  \"\"\"\n",
    "  Reverses a list in-place without using built-in reverse functions.\n",
    "\n",
    "  Args:\n",
    "    lst: The list to be reversed.\n",
    "  Returns:\n",
    "    The list after being reversed in-place.\n",
    "  \"\"\"\n",
    "  left_index = 0\n",
    "  right_index = len(lst) - 1\n",
    "  \n",
    "  while left_index < right_index:\n",
    "    # Swap the elements at the left and right indices\n",
    "    lst[left_index], lst[right_index] = lst[right_index], lst[left_index]\n",
    "    \n",
    "    # Move the pointers towards the center\n",
    "    left_index += 1\n",
    "    right_index -= 1\n",
    "\n",
    "\n",
    "# Example usage\n",
    "my_list = [1, 2, 3, 4, 5]\n",
    "print(\"Original list:\", my_list)\n",
    "reverse_list_in_place(my_list)\n",
    "print(\"Reversed list:\", my_list)\n",
    "\n"
   ]
  },
  {
   "cell_type": "code",
   "execution_count": 29,
   "id": "8851663f-e4b0-43e3-bd19-629ce21ab101",
   "metadata": {},
   "outputs": [
    {
     "name": "stdout",
     "output_type": "stream",
     "text": [
      "Original list: [1, 2, 2, 3, 4, 1, 5, 3]\n",
      "List with duplicates removed (order preserved): [1, 2, 3, 4, 5]\n"
     ]
    }
   ],
   "source": [
    "#Implement a code to find and remove duplicates from a list while preserving the original order of elemnt\n",
    "\n",
    "def remove_duplicates_preserve_order(input_list):\n",
    "  \"\"\"\n",
    "  Removes duplicate elements from a list while preserving the original order.\n",
    "\n",
    "  Args:\n",
    "    input_list: The list from which to remove duplicates.\n",
    "\n",
    "  Returns:\n",
    "    A new list with duplicates removed and original order preserved.\n",
    "  \"\"\"\n",
    "  return list(dict.fromkeys(input_list))\n",
    "\n",
    "# Example usage:\n",
    "my_list = [1, 2, 2, 3, 4, 1, 5, 3]\n",
    "unique_list = remove_duplicates_preserve_order(my_list)\n",
    "print(f\"Original list: {my_list}\")\n",
    "print(f\"List with duplicates removed (order preserved): {unique_list}\")\n"
   ]
  },
  {
   "cell_type": "code",
   "execution_count": 30,
   "id": "34086f33-93fa-4cb7-b6c0-d57a33633bb2",
   "metadata": {},
   "outputs": [
    {
     "name": "stdout",
     "output_type": "stream",
     "text": [
      "List [1, 2, 3, 4, 5] is sorted: True\n",
      "List [5, 4, 3, 2, 1] is sorted: True\n",
      "List [1, 3, 2, 4, 5] is sorted: False\n",
      "List [] is sorted: True\n",
      "List [7] is sorted: True\n"
     ]
    }
   ],
   "source": [
    "#\"$Create a code to check if a given list is sorted (either in ascending or descending order) or not\u0012\n",
    "\n",
    "def is_sorted_either_order(lst):\n",
    "    \"\"\"\n",
    "    Checks if a given list is sorted in either ascending or descending order.\n",
    "\n",
    "    Args:\n",
    "        lst: The list to check.\n",
    "\n",
    "    Returns:\n",
    "        True if the list is sorted in ascending or descending order, False otherwise.\n",
    "    \"\"\"\n",
    "    if len(lst) <= 1:\n",
    "        return True  # An empty list or a list with one element is considered sorted\n",
    "\n",
    "    is_ascending = True\n",
    "    is_descending = True\n",
    "\n",
    "    # Check for ascending order\n",
    "    for i in range(len(lst) - 1):\n",
    "        if lst[i] > lst[i+1]:\n",
    "            is_ascending = False\n",
    "            break\n",
    "\n",
    "    # Check for descending order\n",
    "    for i in range(len(lst) - 1):\n",
    "        if lst[i] < lst[i+1]:\n",
    "            is_descending = False\n",
    "            break\n",
    "\n",
    "    return is_ascending or is_descending\n",
    "\n",
    "# Example Usage:\n",
    "list1 = [1, 2, 3, 4, 5]\n",
    "list2 = [5, 4, 3, 2, 1]\n",
    "list3 = [1, 3, 2, 4, 5]\n",
    "list4 = []\n",
    "list5 = [7]\n",
    "\n",
    "print(f\"List {list1} is sorted: {is_sorted_either_order(list1)}\")\n",
    "print(f\"List {list2} is sorted: {is_sorted_either_order(list2)}\")\n",
    "print(f\"List {list3} is sorted: {is_sorted_either_order(list3)}\")\n",
    "print(f\"List {list4} is sorted: {is_sorted_either_order(list4)}\")\n",
    "print(f\"List {list5} is sorted: {is_sorted_either_order(list5)}\")"
   ]
  },
  {
   "cell_type": "code",
   "execution_count": 31,
   "id": "4ca666e4-35f6-40d3-bf1a-3a4509012855",
   "metadata": {},
   "outputs": [
    {
     "name": "stdout",
     "output_type": "stream",
     "text": [
      "[1, 2, 3, 4, 5, 6, 7, 8, 9]\n"
     ]
    }
   ],
   "source": [
    "#Write a code to merge two sorted lists into a single sorted list\n",
    "\n",
    "def merge_sorted_lists(list1, list2):\n",
    "    \"\"\"\n",
    "    Merges two sorted lists into a single sorted list.\n",
    "\n",
    "    Args:\n",
    "        list1: The first sorted list.\n",
    "        list2: The second sorted list.\n",
    "\n",
    "    Returns:\n",
    "        A new list containing all elements from list1 and list2, sorted.\n",
    "    \"\"\"\n",
    "    merged_list = []\n",
    "    i = 0  # Pointer for list1\n",
    "    j = 0  # Pointer for list2\n",
    "\n",
    "    # Iterate while both pointers are within their respective list bounds\n",
    "    while i < len(list1) and j < len(list2):\n",
    "        if list1[i] <= list2[j]:\n",
    "            merged_list.append(list1[i])\n",
    "            i += 1\n",
    "        else:\n",
    "            merged_list.append(list2[j])\n",
    "            j += 1\n",
    "\n",
    "    # Append any remaining elements from list1 (if any)\n",
    "    while i < len(list1):\n",
    "        merged_list.append(list1[i])\n",
    "        i += 1\n",
    "\n",
    "    # Append any remaining elements from list2 (if any)\n",
    "    while j < len(list2):\n",
    "        merged_list.append(list2[j])\n",
    "        j += 1\n",
    "\n",
    "    return merged_list\n",
    "\n",
    "# Example usage:\n",
    "list_a = [1, 3, 5, 7]\n",
    "list_b = [2, 4, 6, 8, 9]\n",
    "result = merge_sorted_lists(list_a, list_b)\n",
    "print(result)"
   ]
  },
  {
   "cell_type": "code",
   "execution_count": 32,
   "id": "7f3f10a8-de84-4c8c-93c2-b5b0f6c97dd8",
   "metadata": {},
   "outputs": [
    {
     "name": "stdout",
     "output_type": "stream",
     "text": [
      "Intersection (unique elements): [3, 4, 5]\n"
     ]
    }
   ],
   "source": [
    "# Implement a code to find the intersection of two given lists\n",
    "\n",
    "def find_intersection_sets(list1, list2):\n",
    "    set1 = set(list1)\n",
    "    set2 = set(list2)\n",
    "    intersection_set = set1.intersection(set2)\n",
    "    return list(intersection_set)\n",
    "\n",
    "# Example usage:\n",
    "list_a = [1, 2, 3, 4, 5]\n",
    "list_b = [3, 4, 5, 6, 7]\n",
    "intersection = find_intersection_sets(list_a, list_b)\n",
    "print(f\"Intersection (unique elements): {intersection}\")"
   ]
  },
  {
   "cell_type": "code",
   "execution_count": 33,
   "id": "caf7f641-d4d9-4ee6-bc79-0d2e0e4d9218",
   "metadata": {},
   "outputs": [
    {
     "name": "stdout",
     "output_type": "stream",
     "text": [
      "[1, 2, 3, 4, 5, 6, 7, 8]\n"
     ]
    }
   ],
   "source": [
    "# Create a code to find the union of two lists without duplicates\n",
    "\n",
    "def find_union_without_duplicates(list1, list2):\n",
    "  \"\"\"\n",
    "  Finds the union of two lists without duplicates.\n",
    "\n",
    "  Args:\n",
    "    list1: The first list.\n",
    "    list2: The second list.\n",
    "\n",
    "  Returns:\n",
    "    A new list containing the unique elements from both input lists.\n",
    "  \"\"\"\n",
    "  # Convert both lists to sets to automatically handle duplicates and find the union\n",
    "  union_set = set(list1) | set(list2) \n",
    "  # Convert the resulting set back to a list\n",
    "  union_list = list(union_set)\n",
    "  return union_list\n",
    "\n",
    "# Example usage:\n",
    "list_a = [1, 2, 3, 4, 5]\n",
    "list_b = [4, 5, 6, 7, 8]\n",
    "\n",
    "result_list = find_union_without_duplicates(list_a, list_b)\n",
    "print(result_list)\n"
   ]
  },
  {
   "cell_type": "code",
   "execution_count": 34,
   "id": "dece1613-9e5c-4738-ab14-218daa9aa62c",
   "metadata": {},
   "outputs": [
    {
     "name": "stdout",
     "output_type": "stream",
     "text": [
      "Original list: [1, 2, 3, 4, 5, 6, 7, 8, 9, 10]\n",
      "Shuffled list: [8, 1, 10, 5, 7, 9, 2, 6, 3, 4]\n",
      "Original list: ['a', 'b', 'c', 'd']\n",
      "Shuffled list: ['d', 'c', 'b', 'a']\n"
     ]
    }
   ],
   "source": [
    "# Write a code to shuffle a given list randomly without using any built-in shuffle functions\u0012\n",
    "\n",
    "import random\n",
    "\n",
    "def custom_shuffle(input_list):\n",
    "    \"\"\"\n",
    "    Shuffles a list randomly in-place using the Fisher-Yates shuffle algorithm.\n",
    "\n",
    "    Args:\n",
    "        input_list: The list to be shuffled.\n",
    "    \"\"\"\n",
    "    n = len(input_list)\n",
    "    for i in range(n - 1, 0, -1):\n",
    "        # Pick a random index from 0 to i\n",
    "        j = random.randint(0, i)\n",
    "\n",
    "        # Swap the element at i with the element at j\n",
    "        input_list[i], input_list[j] = input_list[j], input_list[i]\n",
    "\n",
    "# Example usage:\n",
    "my_list = [1, 2, 3, 4, 5, 6, 7, 8, 9, 10]\n",
    "print(f\"Original list: {my_list}\")\n",
    "\n",
    "custom_shuffle(my_list)\n",
    "print(f\"Shuffled list: {my_list}\")\n",
    "\n",
    "another_list = ['a', 'b', 'c', 'd']\n",
    "print(f\"Original list: {another_list}\")\n",
    "custom_shuffle(another_list)\n",
    "print(f\"Shuffled list: {another_list}\")"
   ]
  },
  {
   "cell_type": "code",
   "execution_count": 35,
   "id": "8bf0a9e2-93aa-4b2d-89d1-72689ca1f44d",
   "metadata": {},
   "outputs": [
    {
     "name": "stdout",
     "output_type": "stream",
     "text": [
      "Common elements: (4, 5)\n",
      "Common elements: ('banana', 'apple')\n"
     ]
    }
   ],
   "source": [
    "#Write a code that takes two tuples as input and returns a new tuple containing elements that arecommon to both input tuples\n",
    "\n",
    "def get_common_elements(tuple1, tuple2):\n",
    "  \"\"\"\n",
    "  Returns a new tuple containing elements common to both input tuples.\n",
    "\n",
    "  Args:\n",
    "    tuple1: The first input tuple.\n",
    "    tuple2: The second input tuple.\n",
    "\n",
    "  Returns:\n",
    "    A new tuple containing elements found in both tuple1 and tuple2.\n",
    "  \"\"\"\n",
    "  # Convert tuples to sets for efficient intersection finding\n",
    "  set1 = set(tuple1)\n",
    "  set2 = set(tuple2)\n",
    "\n",
    "  # Find the intersection of the two sets\n",
    "  common_elements_set = set1.intersection(set2)\n",
    "\n",
    "  # Convert the resulting set back to a tuple\n",
    "  common_elements_tuple = tuple(common_elements_set)\n",
    "\n",
    "  return common_elements_tuple\n",
    "\n",
    "# Example usage:\n",
    "tuple_a = (1, 2, 3, 4, 5)\n",
    "tuple_b = (4, 5, 6, 7, 8)\n",
    "common_result = get_common_elements(tuple_a, tuple_b)\n",
    "print(f\"Common elements: {common_result}\")\n",
    "\n",
    "tuple_c = ('apple', 'banana', 'cherry')\n",
    "tuple_d = ('banana', 'grape', 'apple')\n",
    "common_result_2 = get_common_elements(tuple_c, tuple_d)\n",
    "print(f\"Common elements: {common_result_2}\")"
   ]
  },
  {
   "cell_type": "code",
   "execution_count": 1,
   "id": "b00d8eaf-ccef-485c-8acc-69408baf0862",
   "metadata": {},
   "outputs": [
    {
     "name": "stdout",
     "output_type": "stream",
     "text": [
      "The first tuple is: (1, 2, 3)\n",
      "The second tuple is: ('a', 'b', 'c')\n",
      "The concatenated tuple is: (1, 2, 3, 'a', 'b', 'c')\n"
     ]
    }
   ],
   "source": [
    "#Write a code to concatenate two tuples. The function should take two tuples as input and return a newtuple containing elements from both input tuples\n",
    "\n",
    "def concatenate_tuples(tuple1, tuple2):\n",
    "  \"\"\"\n",
    "  Concatenates two tuples and returns a new tuple.\n",
    "\n",
    "  Args:\n",
    "    tuple1: The first tuple.\n",
    "    tuple2: The second tuple.\n",
    "\n",
    "  Returns:\n",
    "    A new tuple containing elements from both input tuples.\n",
    "  \"\"\"\n",
    "  return tuple1 + tuple2\n",
    "\n",
    "# Example usage:\n",
    "tuple_a = (1, 2, 3)\n",
    "tuple_b = ('a', 'b', 'c')\n",
    "\n",
    "combined_tuple = concatenate_tuples(tuple_a, tuple_b)\n",
    "\n",
    "print(f\"The first tuple is: {tuple_a}\")\n",
    "print(f\"The second tuple is: {tuple_b}\")\n",
    "print(f\"The concatenated tuple is: {combined_tuple}\")\n"
   ]
  },
  {
   "cell_type": "code",
   "execution_count": null,
   "id": "7f72f305-940d-4c51-ad74-7a3c8b02664d",
   "metadata": {},
   "outputs": [],
   "source": [
    "#Develop a code that prompts the user to input two sets of strings. Then, print the elements that arepresent in the first set but not in the second set\n",
    "\n",
    "def find_set_difference():\n",
    "    \"\"\"\n",
    "    Prompts the user for two sets of strings, separated by commas,\n",
    "    and prints the elements present in the first set but not the second.\n",
    "    \"\"\"\n",
    "    try:\n",
    "        # Get user input for the first set of strings and convert to a set\n",
    "        input_str1 = input(\"Enter the first set of strings separated by commas: \")\n",
    "        set1 = {item.strip() for item in input_str1.split(',')}\n",
    "\n",
    "        # Get user input for the second set of strings and convert to a set\n",
    "        input_str2 = input(\"Enter the second set of strings separated by commas: \")\n",
    "        set2 = {item.strip() for item in input_str2.split(',')}\n",
    "\n",
    "        # Use the set.difference() method or the '-' operator to find the difference\n",
    "        difference = set1.difference(set2)\n",
    "        # Alternatively: difference = set1 - set2\n",
    "\n",
    "        # Print the resulting set\n",
    "        print(\"Elements in the first set but not in the second:\", difference)\n",
    "\n",
    "    except Exception as e:\n",
    "        print(f\"An unexpected error occurred: {e}\")\n",
    "\n",
    "# Call the function to run the program\n",
    "find_set_difference()"
   ]
  },
  {
   "cell_type": "code",
   "execution_count": 4,
   "id": "fa09b637-3e33-475a-a084-1fc3e2ef9c13",
   "metadata": {},
   "outputs": [
    {
     "name": "stdout",
     "output_type": "stream",
     "text": [
      "Original tuple: (10, 20, 30, 40, 50, 60, 70, 80, 90)\n",
      "New tuple (from index 2 to 6): (30, 40, 50, 60)\n",
      "\n",
      "New tuple (from start to index 4): (10, 20, 30, 40)\n",
      "\n",
      "New tuple (from index 5 to end): (60, 70, 80, 90)\n"
     ]
    }
   ],
   "source": [
    "#Create a code that takes a tuple and two integers as input. The function should return a new tuplecontaining elements from the original tuple within the specified range of indices.\n",
    "\n",
    "def get_sub_tuple(original_tuple, start_index, end_index):\n",
    "    \"\"\"\n",
    "    Returns a new tuple containing elements from the original tuple\n",
    "    within the specified range of indices.\n",
    "\n",
    "    Args:\n",
    "        original_tuple: The input tuple.\n",
    "        start_index: The starting index of the slice (inclusive).\n",
    "        end_index: The ending index of the slice (exclusive).\n",
    "\n",
    "    Returns:\n",
    "        A new tuple containing the sliced elements.\n",
    "    \"\"\"\n",
    "    return original_tuple[start_index:end_index]\n",
    "\n",
    "# --- Example Usage ---\n",
    "\n",
    "# Define a sample tuple\n",
    "my_tuple = (10, 20, 30, 40, 50, 60, 70, 80, 90)\n",
    "\n",
    "# Get a slice from index 2 (inclusive) to 6 (exclusive)\n",
    "new_tuple = get_sub_tuple(my_tuple, 2, 6)\n",
    "print(f\"Original tuple: {my_tuple}\")\n",
    "print(f\"New tuple (from index 2 to 6): {new_tuple}\")\n",
    "\n",
    "# Get a slice from the beginning to index 4 (exclusive)\n",
    "new_tuple_prefix = get_sub_tuple(my_tuple, 0, 4)\n",
    "print(f\"\\nNew tuple (from start to index 4): {new_tuple_prefix}\")\n",
    "\n",
    "# Get a slice from index 5 (inclusive) to the end\n",
    "new_tuple_suffix = get_sub_tuple(my_tuple, 5, len(my_tuple))\n",
    "print(f\"\\nNew tuple (from index 5 to end): {new_tuple_suffix}\")\n",
    "\n",
    "\n",
    "\n"
   ]
  },
  {
   "cell_type": "code",
   "execution_count": 5,
   "id": "f9ad5d7d-4a07-4fa1-8827-45897cf30ac7",
   "metadata": {},
   "outputs": [
    {
     "name": "stdin",
     "output_type": "stream",
     "text": [
      "Enter the first set of characters separated by commas or spaces:  print(\"The union of the two character sets is:\", union_set)\n",
      "Enter the second set of characters separated by commas or spaces:  set2 = set(c for c in input_str2 if c.isalnum())\n"
     ]
    },
    {
     "name": "stdout",
     "output_type": "stream",
     "text": [
      "The union of the two character sets is: {'_', 'i', 'h', 's', '2', 'n', 'u', ')', ':', 'a', '=', 'r', '.', 't', 'f', 'c', 'e', 'm', 'l', 'w', 'o', '\"', 'p', '(', 'T'}\n"
     ]
    }
   ],
   "source": [
    "# Write a code that prompts the user to input two sets of characters. Then, print the union of these two sets\n",
    "\n",
    "def find_union():\n",
    "    \"\"\"\n",
    "    Prompts the user for two sets of characters, separated by commas or spaces,\n",
    "    and prints their union.\n",
    "    \"\"\"\n",
    "    try:\n",
    "        # Get user input for the first set of characters\n",
    "        input_str1 = input(\"Enter the first set of characters separated by commas or spaces: \")\n",
    "        set1 = set(input_str1.replace(',', '').replace(' ', ''))\n",
    "\n",
    "        # Get user input for the second set of characters\n",
    "        input_str2 = input(\"Enter the second set of characters separated by commas or spaces: \")\n",
    "        set2 = set(input_str2.replace(',', '').replace(' ', ''))\n",
    "\n",
    "        # Find the union of the two sets using the union() method or the | operator\n",
    "        union_set = set1.union(set2)\n",
    "        # Alternatively: union_set = set1 | set2\n",
    "\n",
    "        # Print the resulting union set\n",
    "        print(\"The union of the two character sets is:\", union_set)\n",
    "\n",
    "    except Exception as e:\n",
    "        print(f\"An unexpected error occurred: {e}\")\n",
    "\n",
    "# Call the function to run the program\n",
    "find_union()\n"
   ]
  },
  {
   "cell_type": "code",
   "execution_count": 6,
   "id": "35c5c074-a543-4197-94ed-4925b4b77105",
   "metadata": {},
   "outputs": [
    {
     "name": "stdout",
     "output_type": "stream",
     "text": [
      "Original tuple: (15, 8, 22, 5, 30, 11)\n",
      "Minimum value: 5\n",
      "Maximum value: 30\n"
     ]
    }
   ],
   "source": [
    "#Develop a code that takes a tuple of integers as input. The function should return the maximum andminimum values from the tuple using tuple unpacking\n",
    "\n",
    "def find_min_max(input_tuple):\n",
    "    \"\"\"\n",
    "    Takes a tuple of integers and returns the minimum and maximum values\n",
    "    using tuple unpacking.\n",
    "\n",
    "    Args:\n",
    "        input_tuple: A tuple of integers.\n",
    "\n",
    "    Returns:\n",
    "        A tuple containing the minimum and maximum values.\n",
    "    \"\"\"\n",
    "    # Check if the tuple is empty to avoid errors with min() and max()\n",
    "    if not input_tuple:\n",
    "        return None, None\n",
    "    \n",
    "    # Use the built-in min() and max() functions to find the values\n",
    "    min_val = min(input_tuple)\n",
    "    max_val = max(input_tuple)\n",
    "    \n",
    "    # Return the results as a new tuple\n",
    "    return min_val, max_val\n",
    "\n",
    "# --- Example Usage with tuple unpacking ---\n",
    "\n",
    "# Define a sample tuple of integers\n",
    "my_numbers = (15, 8, 22, 5, 30, 11)\n",
    "\n",
    "# Call the function, then use tuple unpacking to assign the returned values\n",
    "# directly to the min_number and max_number variables.\n",
    "min_number, max_number = find_min_max(my_numbers)\n",
    "\n",
    "# Print the results\n",
    "print(f\"Original tuple: {my_numbers}\")\n",
    "print(f\"Minimum value: {min_number}\")\n",
    "print(f\"Maximum value: {max_number}\")\n",
    "\n"
   ]
  },
  {
   "cell_type": "code",
   "execution_count": 7,
   "id": "ea12843e-8aa8-4cee-b609-9dc6ebba337c",
   "metadata": {},
   "outputs": [
    {
     "name": "stdout",
     "output_type": "stream",
     "text": [
      "Set 1: {1, 2, 3, 4, 5}\n",
      "Set 2: {4, 5, 6, 7, 8}\n",
      "-------------------------\n",
      "Union of Set 1 and Set 2: {1, 2, 3, 4, 5, 6, 7, 8}\n",
      "Intersection of Set 1 and Set 2: {4, 5}\n",
      "Difference (Set 1 - Set 2): {1, 2, 3}\n",
      "Difference (Set 2 - Set 1): {8, 6, 7}\n"
     ]
    }
   ],
   "source": [
    "#Create a code that defines two sets of integers. Then, print the union, intersection, and difference of thesetwo sets\n",
    "\n",
    "def set_operations():\n",
    "    \"\"\"\n",
    "    Defines two sets of integers and prints their union, intersection, and difference.\n",
    "    \"\"\"\n",
    "    # Define two sets of integers\n",
    "    set1 = {1, 2, 3, 4, 5}\n",
    "    set2 = {4, 5, 6, 7, 8}\n",
    "\n",
    "    print(f\"Set 1: {set1}\")\n",
    "    print(f\"Set 2: {set2}\")\n",
    "    print(\"-\" * 25)\n",
    "\n",
    "    # Union of the sets\n",
    "    # Use the `|` operator or the `.union()` method\n",
    "    union_set = set1 | set2\n",
    "    print(f\"Union of Set 1 and Set 2: {union_set}\")\n",
    "\n",
    "    # Intersection of the sets\n",
    "    # Use the `&` operator or the `.intersection()` method\n",
    "    intersection_set = set1 & set2\n",
    "    print(f\"Intersection of Set 1 and Set 2: {intersection_set}\")\n",
    "\n",
    "    # Difference of the sets (elements in set1 but not in set2)\n",
    "    # Use the `-` operator or the `.difference()` method\n",
    "    difference_set1_minus_set2 = set1 - set2\n",
    "    print(f\"Difference (Set 1 - Set 2): {difference_set1_minus_set2}\")\n",
    "\n",
    "    # Difference of the sets (elements in set2 but not in set1)\n",
    "    difference_set2_minus_set1 = set2 - set1\n",
    "    print(f\"Difference (Set 2 - Set 1): {difference_set2_minus_set1}\")\n",
    "\n",
    "# Run the function\n",
    "set_operations()"
   ]
  },
  {
   "cell_type": "code",
   "execution_count": 10,
   "id": "c0e652e9-e6b5-4f8d-bfa0-f3997f7d9556",
   "metadata": {},
   "outputs": [
    {
     "name": "stdout",
     "output_type": "stream",
     "text": [
      "The element 5 appears 3 times in (1, 5, 2, 8, 5, 3, 5, 9)\n",
      "The element 'blue' appears 3 times in ('red', 'blue', 'green', 'blue', 'red', 'yellow', 'blue')\n",
      "The element 'grape' appears 0 times in ('apple', 'banana', 'orange')\n"
     ]
    }
   ],
   "source": [
    "#Write a code that takes a tuple and an element as input. The function should return the count ofoccurrences of the given element in the tuple\n",
    "\n",
    "def count_element_in_tuple(input_tuple, element):\n",
    "    \"\"\"\n",
    "    Counts the occurrences of a given element in a tuple.\n",
    "\n",
    "    Args:\n",
    "        input_tuple: The tuple to search within.\n",
    "        element: The element to count.\n",
    "\n",
    "    Returns:\n",
    "        The number of times the element occurs in the tuple.\n",
    "    \"\"\"\n",
    "    return input_tuple.count(element)\n",
    "\n",
    "# --- Example Usage ---\n",
    "\n",
    "# Example with a tuple of integers\n",
    "my_numbers = (1, 5, 2, 8, 5, 3, 5, 9)\n",
    "element_to_count = 5\n",
    "count = count_element_in_tuple(my_numbers, element_to_count)\n",
    "print(f\"The element {element_to_count} appears {count} times in {my_numbers}\")\n",
    "\n",
    "# Example with a tuple of strings\n",
    "my_colors = (\"red\", \"blue\", \"green\", \"blue\", \"red\", \"yellow\", \"blue\")\n",
    "element_to_count_str = \"blue\"\n",
    "count_str = count_element_in_tuple(my_colors, element_to_count_str)\n",
    "print(f\"The element '{element_to_count_str}' appears {count_str} times in {my_colors}\")\n",
    "\n",
    "# Example where the element is not found\n",
    "my_fruits = (\"apple\", \"banana\", \"orange\")\n",
    "element_not_found = \"grape\"\n",
    "count_not_found = count_element_in_tuple(my_fruits, element_not_found)\n",
    "print(f\"The element '{element_not_found}' appears {count_not_found} times in {my_fruits}\")\n",
    "\n"
   ]
  },
  {
   "cell_type": "code",
   "execution_count": 11,
   "id": "9ead7d16-4cc5-4508-bb75-795938b8c70b",
   "metadata": {},
   "outputs": [
    {
     "name": "stdin",
     "output_type": "stream",
     "text": [
      "Enter the first set of strings (e.g., apple,banana,orange):  set1 = set(s.strip() for s in input_str1.split(','))\n",
      "Enter the second set of strings (e.g., orange,grape,kiwi):  set2 = set(s.strip() for s in input_str2.split(','))\n"
     ]
    },
    {
     "name": "stdout",
     "output_type": "stream",
     "text": [
      "Symmetric difference of the two sets: {'set1', \"input_str1.split('\", 'set2', \"input_str2.split('\"}\n"
     ]
    }
   ],
   "source": [
    "#Develop a code that prompts the user to input two sets of strings. Then, print the symmetric difference ofthese two set\n",
    "\n",
    "def find_symmetric_difference():\n",
    "    \"\"\"\n",
    "    Prompts the user for two sets of strings, separated by commas or spaces,\n",
    "    and prints their symmetric difference.\n",
    "    \"\"\"\n",
    "    try:\n",
    "        # Get user input for the first set of strings and convert to a set\n",
    "        input_str1 = input(\"Enter the first set of strings (e.g., apple,banana,orange): \")\n",
    "        set1 = {item.strip() for item in input_str1.replace(',', ' ').split()}\n",
    "\n",
    "        # Get user input for the second set of strings and convert to a set\n",
    "        input_str2 = input(\"Enter the second set of strings (e.g., orange,grape,kiwi): \")\n",
    "        set2 = {item.strip() for item in input_str2.replace(',', ' ').split()}\n",
    "\n",
    "        # Calculate the symmetric difference using the ^ operator\n",
    "        symmetric_diff = set1 ^ set2\n",
    "        \n",
    "        # Alternatively, use the .symmetric_difference() method\n",
    "        # symmetric_diff = set1.symmetric_difference(set2)\n",
    "\n",
    "        # Print the resulting set\n",
    "        print(\"Symmetric difference of the two sets:\", symmetric_diff)\n",
    "\n",
    "    except Exception as e:\n",
    "        print(f\"An unexpected error occurred: {e}\")\n",
    "\n",
    "# Call the function to run the program\n",
    "find_symmetric_difference()\n"
   ]
  },
  {
   "cell_type": "code",
   "execution_count": 14,
   "id": "80353839-4fb9-430f-971f-ec2f81e625e5",
   "metadata": {},
   "outputs": [
    {
     "name": "stdin",
     "output_type": "stream",
     "text": [
      "Enter words separated by spaces:  word_list = input_str.split()\n"
     ]
    },
    {
     "name": "stdout",
     "output_type": "stream",
     "text": [
      "Word frequencies:\n",
      "{'word_list': 1, '=': 1, 'input_str.split()': 1}\n"
     ]
    }
   ],
   "source": [
    "#Write a code that takes a list of words as input and returns a dictionary where the keys are unique wordsand the values are the frequencies of those words in the input list\n",
    "\n",
    "def word_frequencies(words):\n",
    "    freq_dict = {}\n",
    "    for word in words:\n",
    "        freq_dict[word] = freq_dict.get(word, 0) + 1\n",
    "    return freq_dict\n",
    "# Example usage\n",
    "input_str = input(\"Enter words separated by spaces: \")\n",
    "word_list = input_str.split()\n",
    "frequencies = word_frequencies(word_list)\n",
    "print(\"Word frequencies:\")\n",
    "print(frequencies)"
   ]
  },
  {
   "cell_type": "code",
   "execution_count": 16,
   "id": "306d8bc7-e2f3-4a83-beb9-02a8b060a4ae",
   "metadata": {},
   "outputs": [
    {
     "name": "stdin",
     "output_type": "stream",
     "text": [
      "Enter the first dictionary (e.g., {'a': 1, 'b': 2}):  {\"keyA\": \"valueA\", \"keyB\": \"valueB\"}\n",
      "Enter the second dictionary (e.g., {'b': 3, 'c': 4}):  {\"keyA\": \"valueA\", \"keyB\": \"valueB\"}\n"
     ]
    },
    {
     "name": "stdout",
     "output_type": "stream",
     "text": [
      "Merged dictionary:\n",
      "{'keyA': 'valueAvalueA', 'keyB': 'valueBvalueB'}\n"
     ]
    }
   ],
   "source": [
    "#& Write a code that takes two dictionaries as input and merges them into a single dictionary. If there arecommon keys, the values should be added together\n",
    "\n",
    "def merge_dictionaries(dict1, dict2):\n",
    "    merged = dict1.copy()  # Start with dict1's items\n",
    "    for key, value in dict2.items():\n",
    "        if key in merged:\n",
    "            merged[key] += value  # Add values if key exists\n",
    "        else:\n",
    "            merged[key] = value   # Add new key-value pair\n",
    "    return merged\n",
    "# Example usage:\n",
    "# Input dictionaries as strings, e.g., {\"a\": 1, \"b\": 2}\n",
    "import ast\n",
    "dict1_str = input(\"Enter the first dictionary (e.g., {'a': 1, 'b': 2}): \")\n",
    "dict2_str = input(\"Enter the second dictionary (e.g., {'b': 3, 'c': 4}): \")\n",
    "dict1 = ast.literal_eval(dict1_str)\n",
    "dict2 = ast.literal_eval(dict2_str)\n",
    "merged_dict = merge_dictionaries(dict1, dict2)\n",
    "print(\"Merged dictionary:\")\n",
    "print(merged_dict)"
   ]
  },
  {
   "cell_type": "code",
   "execution_count": 17,
   "id": "4b77abb0-9f2e-4373-ad63-0b13083b6b0c",
   "metadata": {},
   "outputs": [
    {
     "ename": "NameError",
     "evalue": "name 'get_nested_value' is not defined",
     "output_type": "error",
     "traceback": [
      "\u001b[1;31m---------------------------------------------------------------------------\u001b[0m",
      "\u001b[1;31mNameError\u001b[0m                                 Traceback (most recent call last)",
      "Cell \u001b[1;32mIn[17], line 11\u001b[0m\n\u001b[0;32m      3\u001b[0m nested_dict \u001b[38;5;241m=\u001b[39m {\n\u001b[0;32m      4\u001b[0m     \u001b[38;5;124m'\u001b[39m\u001b[38;5;124ma\u001b[39m\u001b[38;5;124m'\u001b[39m: {\n\u001b[0;32m      5\u001b[0m         \u001b[38;5;124m'\u001b[39m\u001b[38;5;124mb\u001b[39m\u001b[38;5;124m'\u001b[39m: {\n\u001b[1;32m   (...)\u001b[0m\n\u001b[0;32m      8\u001b[0m     }\n\u001b[0;32m      9\u001b[0m }\n\u001b[0;32m     10\u001b[0m keys \u001b[38;5;241m=\u001b[39m [\u001b[38;5;124m'\u001b[39m\u001b[38;5;124ma\u001b[39m\u001b[38;5;124m'\u001b[39m, \u001b[38;5;124m'\u001b[39m\u001b[38;5;124mb\u001b[39m\u001b[38;5;124m'\u001b[39m, \u001b[38;5;124m'\u001b[39m\u001b[38;5;124mc\u001b[39m\u001b[38;5;124m'\u001b[39m]\n\u001b[1;32m---> 11\u001b[0m value \u001b[38;5;241m=\u001b[39m get_nested_value(nested_dict, keys)\n\u001b[0;32m     12\u001b[0m \u001b[38;5;28mprint\u001b[39m(value)  \u001b[38;5;66;03m# Output: 42\u001b[39;00m\n\u001b[0;32m     13\u001b[0m keys_missing \u001b[38;5;241m=\u001b[39m [\u001b[38;5;124m'\u001b[39m\u001b[38;5;124ma\u001b[39m\u001b[38;5;124m'\u001b[39m, \u001b[38;5;124m'\u001b[39m\u001b[38;5;124mx\u001b[39m\u001b[38;5;124m'\u001b[39m, \u001b[38;5;124m'\u001b[39m\u001b[38;5;124mc\u001b[39m\u001b[38;5;124m'\u001b[39m]\n",
      "\u001b[1;31mNameError\u001b[0m: name 'get_nested_value' is not defined"
     ]
    }
   ],
   "source": [
    "#Write a code to access a value in a nested dictionary. The function should take the dictionary and a list ofkeys as inputand return the corresponding value. If any of the keys do not exist in the dictionary, thefunction should return None\n",
    "\n",
    "nested_dict = {\n",
    "    'a': {\n",
    "        'b': {\n",
    "            'c': 42\n",
    "        }\n",
    "    }\n",
    "}\n",
    "keys = ['a', 'b', 'c']\n",
    "value = get_nested_value(nested_dict, keys)\n",
    "print(value)  # Output: 42\n",
    "keys_missing = ['a', 'x', 'c']\n",
    "value_missing = get_nested_value(nested_dict, keys_missing)\n",
    "print(value_missing)  # Output: None"
   ]
  },
  {
   "cell_type": "code",
   "execution_count": null,
   "id": "f5dd3553-4fb7-48eb-9a13-bc5433095f6a",
   "metadata": {},
   "outputs": [],
   "source": [
    "#Write a code that takes a dictionary as input and returns a sorted version of it based on the values. Youcan choose whether to sort in ascending or descending order\n",
    "\n"
   ]
  }
 ],
 "metadata": {
  "kernelspec": {
   "display_name": "Python 3 (ipykernel)",
   "language": "python",
   "name": "python3"
  },
  "language_info": {
   "codemirror_mode": {
    "name": "ipython",
    "version": 3
   },
   "file_extension": ".py",
   "mimetype": "text/x-python",
   "name": "python",
   "nbconvert_exporter": "python",
   "pygments_lexer": "ipython3",
   "version": "3.12.7"
  }
 },
 "nbformat": 4,
 "nbformat_minor": 5
}
