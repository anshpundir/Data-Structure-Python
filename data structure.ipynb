{
 "cells": [
  {
   "cell_type": "code",
   "execution_count": 1,
   "id": "80a82133-d141-458d-894d-67f2a913ebce",
   "metadata": {},
   "outputs": [],
   "source": [
    "# data structure > the way of organizing and storing the data so that it can be accessed and manipulatedeffeciently\n"
   ]
  },
  {
   "cell_type": "code",
   "execution_count": 2,
   "id": "9d28de51-eb95-4d89-a5cd-41f9ff89622a",
   "metadata": {},
   "outputs": [],
   "source": [
    "#List >> it is an ordered collection of data and elements that can be of any data type , it can be float , integer anything.\n",
    "#List are mutable ( we can add some data and substract some data)"
   ]
  },
  {
   "cell_type": "code",
   "execution_count": 3,
   "id": "c4e4d442-ac13-45e7-8beb-b36dbc8ef1a0",
   "metadata": {},
   "outputs": [],
   "source": [
    "num = [1,2,3,4,5,]"
   ]
  },
  {
   "cell_type": "code",
   "execution_count": 4,
   "id": "9ce1b4e3-2a13-490d-9c43-618ece3fbf1f",
   "metadata": {},
   "outputs": [
    {
     "data": {
      "text/plain": [
       "list"
      ]
     },
     "execution_count": 4,
     "metadata": {},
     "output_type": "execute_result"
    }
   ],
   "source": [
    "type(num)"
   ]
  },
  {
   "cell_type": "code",
   "execution_count": 5,
   "id": "7d93f97a-ca9c-48b1-826a-557b9fd9c7ea",
   "metadata": {},
   "outputs": [],
   "source": [
    "# It starts counting elements from zero (list index starts from zero) "
   ]
  },
  {
   "cell_type": "code",
   "execution_count": 6,
   "id": "c0fb7502-1486-4da6-aa47-94a2d733b153",
   "metadata": {},
   "outputs": [
    {
     "data": {
      "text/plain": [
       "1"
      ]
     },
     "execution_count": 6,
     "metadata": {},
     "output_type": "execute_result"
    }
   ],
   "source": [
    "num[0]"
   ]
  },
  {
   "cell_type": "code",
   "execution_count": 7,
   "id": "adcff67f-7397-45f6-94b8-405a18c99cfd",
   "metadata": {},
   "outputs": [
    {
     "data": {
      "text/plain": [
       "4"
      ]
     },
     "execution_count": 7,
     "metadata": {},
     "output_type": "execute_result"
    }
   ],
   "source": [
    "num[3]"
   ]
  },
  {
   "cell_type": "code",
   "execution_count": 8,
   "id": "dd7eddbd-f178-40fc-b440-776dbc197ee3",
   "metadata": {},
   "outputs": [
    {
     "ename": "IndexError",
     "evalue": "list index out of range",
     "output_type": "error",
     "traceback": [
      "\u001b[1;31m---------------------------------------------------------------------------\u001b[0m",
      "\u001b[1;31mIndexError\u001b[0m                                Traceback (most recent call last)",
      "Cell \u001b[1;32mIn[8], line 1\u001b[0m\n\u001b[1;32m----> 1\u001b[0m num[\u001b[38;5;241m5\u001b[39m]\n",
      "\u001b[1;31mIndexError\u001b[0m: list index out of range"
     ]
    }
   ],
   "source": [
    "num[5]"
   ]
  },
  {
   "cell_type": "code",
   "execution_count": 7,
   "id": "5c7bda63-1263-447d-9493-74ffb90dd239",
   "metadata": {},
   "outputs": [],
   "source": [
    "lis = [1,2,3,4, \"ansh\", True, ]"
   ]
  },
  {
   "cell_type": "code",
   "execution_count": 9,
   "id": "ea86c7f0-63b9-4a61-82b3-8e52816f6335",
   "metadata": {},
   "outputs": [
    {
     "data": {
      "text/plain": [
       "list"
      ]
     },
     "execution_count": 9,
     "metadata": {},
     "output_type": "execute_result"
    }
   ],
   "source": [
    "type(lis)"
   ]
  },
  {
   "cell_type": "code",
   "execution_count": 6,
   "id": "2a499541-8b20-4576-9252-6dc43e61115e",
   "metadata": {},
   "outputs": [
    {
     "ename": "NameError",
     "evalue": "name 'lis' is not defined",
     "output_type": "error",
     "traceback": [
      "\u001b[1;31m---------------------------------------------------------------------------\u001b[0m",
      "\u001b[1;31mNameError\u001b[0m                                 Traceback (most recent call last)",
      "Cell \u001b[1;32mIn[6], line 1\u001b[0m\n\u001b[1;32m----> 1\u001b[0m lis\n",
      "\u001b[1;31mNameError\u001b[0m: name 'lis' is not defined"
     ]
    }
   ],
   "source": [
    "lis"
   ]
  },
  {
   "cell_type": "code",
   "execution_count": 10,
   "id": "561eb3af-0b64-4c9b-9d4a-a20eec935761",
   "metadata": {},
   "outputs": [],
   "source": [
    "lis.append(\"pwskills\")"
   ]
  },
  {
   "cell_type": "code",
   "execution_count": 11,
   "id": "c4495f2e-e833-4c4b-a63a-1e51c996b0d8",
   "metadata": {},
   "outputs": [
    {
     "data": {
      "text/plain": [
       "[1, 2, 3, 4, 'ansh', True, 'pwskills']"
      ]
     },
     "execution_count": 11,
     "metadata": {},
     "output_type": "execute_result"
    }
   ],
   "source": [
    "lis"
   ]
  },
  {
   "cell_type": "code",
   "execution_count": 17,
   "id": "68df5c9e-22ad-4bea-8e15-2375ce827e19",
   "metadata": {},
   "outputs": [
    {
     "ename": "ValueError",
     "evalue": "list.remove(x): x not in list",
     "output_type": "error",
     "traceback": [
      "\u001b[1;31m---------------------------------------------------------------------------\u001b[0m",
      "\u001b[1;31mValueError\u001b[0m                                Traceback (most recent call last)",
      "Cell \u001b[1;32mIn[17], line 1\u001b[0m\n\u001b[1;32m----> 1\u001b[0m lis\u001b[38;5;241m.\u001b[39mremove(\u001b[38;5;124m\"\u001b[39m\u001b[38;5;124mpwskills\u001b[39m\u001b[38;5;124m\"\u001b[39m)\n",
      "\u001b[1;31mValueError\u001b[0m: list.remove(x): x not in list"
     ]
    }
   ],
   "source": [
    "lis.remove(\"pwskills\")"
   ]
  },
  {
   "cell_type": "code",
   "execution_count": 18,
   "id": "6ba48f4d-4470-478a-ad9c-a1c98a9f8f85",
   "metadata": {},
   "outputs": [
    {
     "data": {
      "text/plain": [
       "[1, 2, 3, 4, 'ansh', True]"
      ]
     },
     "execution_count": 18,
     "metadata": {},
     "output_type": "execute_result"
    }
   ],
   "source": [
    "lis"
   ]
  },
  {
   "cell_type": "code",
   "execution_count": 14,
   "id": "dde33318-272a-45f2-9341-860107db9b06",
   "metadata": {},
   "outputs": [
    {
     "data": {
      "text/plain": [
       "'ansh'"
      ]
     },
     "execution_count": 14,
     "metadata": {},
     "output_type": "execute_result"
    }
   ],
   "source": [
    "lis[4]"
   ]
  },
  {
   "cell_type": "code",
   "execution_count": 19,
   "id": "8f31d132-c250-4092-80d4-071e8d7dfe52",
   "metadata": {},
   "outputs": [],
   "source": [
    "lis= [[1,2,3,],[4,5,6,],[7,8,9]]"
   ]
  },
  {
   "cell_type": "code",
   "execution_count": 20,
   "id": "ead7bb06-0fc3-46c4-a7a3-f84aeac3a3e4",
   "metadata": {},
   "outputs": [
    {
     "data": {
      "text/plain": [
       "list"
      ]
     },
     "execution_count": 20,
     "metadata": {},
     "output_type": "execute_result"
    }
   ],
   "source": [
    "type(lis)"
   ]
  },
  {
   "cell_type": "code",
   "execution_count": 21,
   "id": "ab9fd548-0b9e-45bf-b3f7-0b78da63f35b",
   "metadata": {},
   "outputs": [
    {
     "data": {
      "text/plain": [
       "[1, 2, 3]"
      ]
     },
     "execution_count": 21,
     "metadata": {},
     "output_type": "execute_result"
    }
   ],
   "source": [
    "lis[0]"
   ]
  },
  {
   "cell_type": "code",
   "execution_count": 22,
   "id": "5c53dcec-fc8f-41f2-ba91-b701f5dcd724",
   "metadata": {},
   "outputs": [
    {
     "data": {
      "text/plain": [
       "2"
      ]
     },
     "execution_count": 22,
     "metadata": {},
     "output_type": "execute_result"
    }
   ],
   "source": [
    "lis[0][1]"
   ]
  },
  {
   "cell_type": "code",
   "execution_count": 23,
   "id": "58960454-333b-409d-ad89-98946a9ac3fd",
   "metadata": {},
   "outputs": [
    {
     "data": {
      "text/plain": [
       "9"
      ]
     },
     "execution_count": 23,
     "metadata": {},
     "output_type": "execute_result"
    }
   ],
   "source": [
    "lis[2][2]"
   ]
  },
  {
   "cell_type": "markdown",
   "id": "888dc3f5-ea3b-43e7-8859-bb4babd4da33",
   "metadata": {},
   "source": [
    "#Tuples>> immutable (values can not be change in tuple)\n"
   ]
  },
  {
   "cell_type": "code",
   "execution_count": 24,
   "id": "6c32c200-2025-4a1f-a2d0-844f32553baf",
   "metadata": {},
   "outputs": [],
   "source": [
    "point=(2,3)"
   ]
  },
  {
   "cell_type": "code",
   "execution_count": 25,
   "id": "3518b62e-0d92-4086-8804-62fdded4ea2b",
   "metadata": {},
   "outputs": [
    {
     "data": {
      "text/plain": [
       "(2, 3)"
      ]
     },
     "execution_count": 25,
     "metadata": {},
     "output_type": "execute_result"
    }
   ],
   "source": [
    "point"
   ]
  },
  {
   "cell_type": "code",
   "execution_count": 26,
   "id": "9d11c975-355e-436e-bbab-3ddd6d150c02",
   "metadata": {},
   "outputs": [
    {
     "data": {
      "text/plain": [
       "tuple"
      ]
     },
     "execution_count": 26,
     "metadata": {},
     "output_type": "execute_result"
    }
   ],
   "source": [
    "type(point)"
   ]
  },
  {
   "cell_type": "code",
   "execution_count": 28,
   "id": "29770473-1827-402c-9965-48f65b3bf660",
   "metadata": {},
   "outputs": [],
   "source": [
    "point= (\"ansh\", 1,2,3)"
   ]
  },
  {
   "cell_type": "code",
   "execution_count": 29,
   "id": "1f9b08bd-b844-4363-9c48-8902483b8150",
   "metadata": {},
   "outputs": [
    {
     "data": {
      "text/plain": [
       "('ansh', 1, 2, 3)"
      ]
     },
     "execution_count": 29,
     "metadata": {},
     "output_type": "execute_result"
    }
   ],
   "source": [
    "point"
   ]
  },
  {
   "cell_type": "code",
   "execution_count": 31,
   "id": "8910f1dd-e533-442c-aa8c-78ed0774fce7",
   "metadata": {},
   "outputs": [
    {
     "data": {
      "text/plain": [
       "'ansh'"
      ]
     },
     "execution_count": 31,
     "metadata": {},
     "output_type": "execute_result"
    }
   ],
   "source": [
    "point[0]"
   ]
  },
  {
   "cell_type": "code",
   "execution_count": 32,
   "id": "53b5b9d0-79c4-4b11-bb2e-428656b70874",
   "metadata": {},
   "outputs": [],
   "source": [
    "#sets>> are unordered collection of unique elements"
   ]
  },
  {
   "cell_type": "code",
   "execution_count": 33,
   "id": "f8d73a11-ad3a-4c93-a33f-04e60f4ac2ff",
   "metadata": {},
   "outputs": [],
   "source": [
    "s = { \"red\", \"blue\"}"
   ]
  },
  {
   "cell_type": "code",
   "execution_count": 34,
   "id": "e687485f-da2d-41e6-bc4c-948467e19bf9",
   "metadata": {},
   "outputs": [
    {
     "data": {
      "text/plain": [
       "set"
      ]
     },
     "execution_count": 34,
     "metadata": {},
     "output_type": "execute_result"
    }
   ],
   "source": [
    "type(s)"
   ]
  },
  {
   "cell_type": "code",
   "execution_count": 35,
   "id": "179a68f7-1f2e-4482-b7b5-4d59ce2c7384",
   "metadata": {},
   "outputs": [],
   "source": [
    "s = {\"red\", \"blue\", \"blue\"}"
   ]
  },
  {
   "cell_type": "code",
   "execution_count": 36,
   "id": "73bafcdd-4f4e-46b0-925d-74caf9162bd8",
   "metadata": {},
   "outputs": [
    {
     "data": {
      "text/plain": [
       "{'blue', 'red'}"
      ]
     },
     "execution_count": 36,
     "metadata": {},
     "output_type": "execute_result"
    }
   ],
   "source": [
    "s"
   ]
  },
  {
   "cell_type": "code",
   "execution_count": 40,
   "id": "e966faf9-749d-44f6-9611-51a9b26af81b",
   "metadata": {},
   "outputs": [],
   "source": [
    "s = { 'a', 'a' ,12, 34, 34 }"
   ]
  },
  {
   "cell_type": "code",
   "execution_count": 41,
   "id": "e725f712-4854-4757-b13a-4a6bf752a123",
   "metadata": {},
   "outputs": [
    {
     "data": {
      "text/plain": [
       "{12, 34, 'a'}"
      ]
     },
     "execution_count": 41,
     "metadata": {},
     "output_type": "execute_result"
    }
   ],
   "source": [
    "s"
   ]
  },
  {
   "cell_type": "code",
   "execution_count": 42,
   "id": "8574b4a5-7ee6-458e-8075-c62cdf323a0f",
   "metadata": {},
   "outputs": [],
   "source": [
    "s.add(\"pwskills\")"
   ]
  },
  {
   "cell_type": "code",
   "execution_count": 43,
   "id": "6d90cc90-ca92-45e0-b39b-03cf62647589",
   "metadata": {},
   "outputs": [
    {
     "data": {
      "text/plain": [
       "{12, 34, 'a', 'pwskills'}"
      ]
     },
     "execution_count": 43,
     "metadata": {},
     "output_type": "execute_result"
    }
   ],
   "source": [
    "s"
   ]
  },
  {
   "cell_type": "code",
   "execution_count": 44,
   "id": "8a1bb722-4e17-4f58-b6d5-c459d5ba3253",
   "metadata": {},
   "outputs": [],
   "source": [
    "s.remove(\"pwskills\")"
   ]
  },
  {
   "cell_type": "code",
   "execution_count": 45,
   "id": "0a3c5487-879b-4b4d-9a41-fd930ea44588",
   "metadata": {},
   "outputs": [
    {
     "data": {
      "text/plain": [
       "{12, 34, 'a'}"
      ]
     },
     "execution_count": 45,
     "metadata": {},
     "output_type": "execute_result"
    }
   ],
   "source": [
    "s"
   ]
  },
  {
   "cell_type": "code",
   "execution_count": 46,
   "id": "9d7529e6-8182-47d4-8a5d-2868854e4333",
   "metadata": {},
   "outputs": [],
   "source": [
    "#dictionary"
   ]
  },
  {
   "cell_type": "code",
   "execution_count": 47,
   "id": "86862d28-d45e-4eb4-ae70-ec9bbd37b5bc",
   "metadata": {},
   "outputs": [],
   "source": [
    "my_dict = {}"
   ]
  },
  {
   "cell_type": "code",
   "execution_count": 48,
   "id": "1fec6eb5-f0b7-48ef-bb7e-2a90384690c2",
   "metadata": {},
   "outputs": [
    {
     "data": {
      "text/plain": [
       "{}"
      ]
     },
     "execution_count": 48,
     "metadata": {},
     "output_type": "execute_result"
    }
   ],
   "source": [
    "my_dict"
   ]
  },
  {
   "cell_type": "code",
   "execution_count": 49,
   "id": "80591f82-8b01-4b15-9eaf-3b36739d9f36",
   "metadata": {},
   "outputs": [
    {
     "data": {
      "text/plain": [
       "dict"
      ]
     },
     "execution_count": 49,
     "metadata": {},
     "output_type": "execute_result"
    }
   ],
   "source": [
    "type(my_dict)"
   ]
  },
  {
   "cell_type": "code",
   "execution_count": 50,
   "id": "fa1d66eb-1b2b-4964-8dfa-bbae2a55b340",
   "metadata": {},
   "outputs": [],
   "source": [
    "phonebook = {\"dad\":1234, \"mom\":234}"
   ]
  },
  {
   "cell_type": "code",
   "execution_count": 51,
   "id": "8cf6f7eb-5b7d-46c4-a9f8-8589f00953b9",
   "metadata": {},
   "outputs": [
    {
     "data": {
      "text/plain": [
       "dict"
      ]
     },
     "execution_count": 51,
     "metadata": {},
     "output_type": "execute_result"
    }
   ],
   "source": [
    "type(phonebook)"
   ]
  },
  {
   "cell_type": "code",
   "execution_count": 52,
   "id": "8bd42718-7124-40fa-be2d-2867432ece28",
   "metadata": {},
   "outputs": [
    {
     "data": {
      "text/plain": [
       "1234"
      ]
     },
     "execution_count": 52,
     "metadata": {},
     "output_type": "execute_result"
    }
   ],
   "source": [
    "phonebook[\"dad\"]"
   ]
  },
  {
   "cell_type": "code",
   "execution_count": 53,
   "id": "343f792f-fd82-410b-974c-c21e5c7cb3c2",
   "metadata": {},
   "outputs": [],
   "source": [
    "phonebook = { \"dad\": 23423, \"mom\":234, \"dad\": 232}"
   ]
  },
  {
   "cell_type": "code",
   "execution_count": 55,
   "id": "39743894-28fb-472b-af4e-65429b072a76",
   "metadata": {},
   "outputs": [
    {
     "data": {
      "text/plain": [
       "232"
      ]
     },
     "execution_count": 55,
     "metadata": {},
     "output_type": "execute_result"
    }
   ],
   "source": [
    "phonebook[\"dad\"]"
   ]
  },
  {
   "cell_type": "code",
   "execution_count": 57,
   "id": "7a0b9427-82e7-4be4-bcbe-9a9a4767ef50",
   "metadata": {},
   "outputs": [],
   "source": [
    "phonebook[\"dad\"] = \"I have change my number\""
   ]
  },
  {
   "cell_type": "code",
   "execution_count": 58,
   "id": "2ed8b269-684a-40af-ba24-95b32a2014d8",
   "metadata": {},
   "outputs": [
    {
     "data": {
      "text/plain": [
       "{'dad': 'I have change my number', 'mom': 234}"
      ]
     },
     "execution_count": 58,
     "metadata": {},
     "output_type": "execute_result"
    }
   ],
   "source": [
    "phonebook"
   ]
  },
  {
   "cell_type": "code",
   "execution_count": 59,
   "id": "49fa72db-6437-49d2-8ff7-7f8b5b5f0f65",
   "metadata": {},
   "outputs": [
    {
     "data": {
      "text/plain": [
       "dict_keys(['dad', 'mom'])"
      ]
     },
     "execution_count": 59,
     "metadata": {},
     "output_type": "execute_result"
    }
   ],
   "source": [
    "phonebook.keys()"
   ]
  },
  {
   "cell_type": "code",
   "execution_count": 60,
   "id": "4ddbe909-faa8-4471-a193-c1ba9aee8860",
   "metadata": {},
   "outputs": [
    {
     "data": {
      "text/plain": [
       "dict_values(['I have change my number', 234])"
      ]
     },
     "execution_count": 60,
     "metadata": {},
     "output_type": "execute_result"
    }
   ],
   "source": [
    "phonebook.values()"
   ]
  },
  {
   "cell_type": "code",
   "execution_count": null,
   "id": "af5fa35e-7fc5-4dde-9ed7-b7b6ea8a35a9",
   "metadata": {},
   "outputs": [],
   "source": []
  }
 ],
 "metadata": {
  "kernelspec": {
   "display_name": "Python 3 (ipykernel)",
   "language": "python",
   "name": "python3"
  },
  "language_info": {
   "codemirror_mode": {
    "name": "ipython",
    "version": 3
   },
   "file_extension": ".py",
   "mimetype": "text/x-python",
   "name": "python",
   "nbconvert_exporter": "python",
   "pygments_lexer": "ipython3",
   "version": "3.12.7"
  }
 },
 "nbformat": 4,
 "nbformat_minor": 5
}
